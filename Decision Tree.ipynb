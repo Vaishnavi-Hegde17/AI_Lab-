{
  "nbformat": 4,
  "nbformat_minor": 0,
  "metadata": {
    "colab": {
      "provenance": []
    },
    "kernelspec": {
      "name": "python3",
      "display_name": "Python 3"
    },
    "language_info": {
      "name": "python"
    }
  },
  "cells": [
    {
      "cell_type": "code",
      "execution_count": 1,
      "metadata": {
        "colab": {
          "base_uri": "https://localhost:8080/"
        },
        "id": "bCm5klDxYCe2",
        "outputId": "340ff070-2d78-4fe3-97c5-c228f33ab638"
      },
      "outputs": [
        {
          "output_type": "stream",
          "name": "stdout",
          "text": [
            "Decision Tree Structure:\n",
            " |--- Outlook <= 0.50\n",
            "|   |--- class: 1\n",
            "|--- Outlook >  0.50\n",
            "|   |--- Wind <= 0.50\n",
            "|   |   |--- Temperature <= 1.50\n",
            "|   |   |   |--- class: 0\n",
            "|   |   |--- Temperature >  1.50\n",
            "|   |   |   |--- Outlook <= 1.50\n",
            "|   |   |   |   |--- class: 0\n",
            "|   |   |   |--- Outlook >  1.50\n",
            "|   |   |   |   |--- class: 1\n",
            "|   |--- Wind >  0.50\n",
            "|   |   |--- Outlook <= 1.50\n",
            "|   |   |   |--- class: 1\n",
            "|   |   |--- Outlook >  1.50\n",
            "|   |   |   |--- Temperature <= 1.00\n",
            "|   |   |   |   |--- class: 1\n",
            "|   |   |   |--- Temperature >  1.00\n",
            "|   |   |   |   |--- class: 0\n",
            "\n",
            "\n",
            "Model Accuracy: 66.67%\n"
          ]
        }
      ],
      "source": [
        "import pandas as pd\n",
        "import numpy as np\n",
        "from sklearn.model_selection import train_test_split\n",
        "from sklearn.tree import DecisionTreeClassifier, export_text\n",
        "\n",
        "# Sample dataset (Play Tennis Example)\n",
        "data = {\n",
        "    'Outlook': ['Sunny', 'Sunny', 'Overcast', 'Rain', 'Rain', 'Rain', 'Overcast', 'Sunny', 'Sunny', 'Rain', 'Sunny', 'Overcast', 'Overcast', 'Rain'],\n",
        "    'Temperature': ['Hot', 'Hot', 'Hot', 'Mild', 'Cool', 'Cool', 'Cool', 'Mild', 'Cool', 'Mild', 'Mild', 'Mild', 'Hot', 'Mild'],\n",
        "    'Humidity': ['High', 'High', 'High', 'High', 'Normal', 'Normal', 'Normal', 'High', 'Normal', 'Normal', 'Normal', 'High', 'Normal', 'High'],\n",
        "    'Wind': ['Weak', 'Strong', 'Weak', 'Weak', 'Weak', 'Strong', 'Strong', 'Weak', 'Weak', 'Weak', 'Strong', 'Strong', 'Weak', 'Strong'],\n",
        "    'PlayTennis': ['No', 'No', 'Yes', 'Yes', 'Yes', 'No', 'Yes', 'No', 'Yes', 'Yes', 'Yes', 'Yes', 'Yes', 'No']\n",
        "}\n",
        "\n",
        "# Convert dataset to DataFrame\n",
        "df = pd.DataFrame(data)\n",
        "\n",
        "# Convert categorical values to numeric using Label Encoding\n",
        "from sklearn.preprocessing import LabelEncoder\n",
        "encoder = LabelEncoder()\n",
        "for column in df.columns:\n",
        "    df[column] = encoder.fit_transform(df[column])\n",
        "\n",
        "# Split data into features and target variable\n",
        "X = df.drop(columns=['PlayTennis'])\n",
        "y = df['PlayTennis']\n",
        "\n",
        "# Split dataset into training and testing sets\n",
        "X_train, X_test, y_train, y_test = train_test_split(X, y, test_size=0.2, random_state=42)\n",
        "\n",
        "# Create Decision Tree Classifier using Entropy (ID3 Algorithm)\n",
        "clf = DecisionTreeClassifier(criterion='entropy')\n",
        "clf.fit(X_train, y_train)\n",
        "\n",
        "# Print decision tree structure\n",
        "tree_rules = export_text(clf, feature_names=X.columns.tolist())\n",
        "print(\"Decision Tree Structure:\\n\", tree_rules)\n",
        "\n",
        "# Make predictions\n",
        "y_pred = clf.predict(X_test)\n",
        "\n",
        "# Calculate accuracy\n",
        "accuracy = np.mean(y_pred == y_test) * 100\n",
        "print(f\"\\nModel Accuracy: {accuracy:.2f}%\")\n"
      ]
    }
  ]
}
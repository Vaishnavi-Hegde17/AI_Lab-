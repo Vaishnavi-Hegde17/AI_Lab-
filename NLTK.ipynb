{
  "nbformat": 4,
  "nbformat_minor": 0,
  "metadata": {
    "colab": {
      "provenance": []
    },
    "kernelspec": {
      "name": "python3",
      "display_name": "Python 3"
    },
    "language_info": {
      "name": "python"
    }
  },
  "cells": [
    {
      "source": [
        "import nltk\n",
        "from nltk.tokenize import word_tokenize, sent_tokenize\n",
        "from nltk.corpus import stopwords\n",
        "from nltk.stem import PorterStemmer\n",
        "from nltk import pos_tag\n",
        "\n",
        "# Download necessary data\n",
        "nltk.download('punkt')\n",
        "nltk.download('stopwords')\n",
        "nltk.download('averaged_perceptron_tagger')\n",
        "# Download the specific resource for English POS tagging\n",
        "nltk.download('averaged_perceptron_tagger_eng') # This line is added to fix the error\n",
        "\n",
        "\n",
        "# Sample text\n",
        "text = \"Natural Language Processing (NLP) is an exciting field of Artificial Intelligence. It helps computers understand human language.\"\n",
        "\n",
        "# a. Tokenization\n",
        "word_tokens = word_tokenize(text)\n",
        "sentence_tokens = sent_tokenize(text)\n",
        "\n",
        "print(\"\\n--- Word Tokenization ---\")\n",
        "print(word_tokens)\n",
        "\n",
        "print(\"\\n--- Sentence Tokenization ---\")\n",
        "print(sentence_tokens)\n",
        "\n",
        "# b. Stopword Removal\n",
        "stop_words = set(stopwords.words('english'))\n",
        "filtered_words = [word for word in word_tokens if word.lower() not in stop_words]\n",
        "\n",
        "print(\"\\n--- Filtered Words (Stopwords Removed) ---\")\n",
        "print(filtered_words)\n",
        "\n",
        "# c. Stemming\n",
        "stemmer = PorterStemmer()\n",
        "stemmed_words = [stemmer.stem(word) for word in filtered_words]\n",
        "\n",
        "print(\"\\n--- Stemmed Words ---\")\n",
        "print(stemmed_words)\n",
        "\n",
        "# d. POS Tagging\n",
        "pos_tags = pos_tag(word_tokens)\n",
        "\n",
        "print(\"\\n--- POS Tagging ---\")\n",
        "for word, tag in pos_tags:\n",
        "    print(f\"{word}: {tag}\")"
      ],
      "cell_type": "code",
      "metadata": {
        "id": "rVjIJju4cPL_",
        "outputId": "3b994edb-08bc-42d6-e107-87bcf8bb2267",
        "colab": {
          "base_uri": "https://localhost:8080/"
        }
      },
      "execution_count": 7,
      "outputs": [
        {
          "output_type": "stream",
          "name": "stderr",
          "text": [
            "[nltk_data] Downloading package punkt to /root/nltk_data...\n",
            "[nltk_data]   Package punkt is already up-to-date!\n",
            "[nltk_data] Downloading package stopwords to /root/nltk_data...\n",
            "[nltk_data]   Package stopwords is already up-to-date!\n",
            "[nltk_data] Downloading package averaged_perceptron_tagger to\n",
            "[nltk_data]     /root/nltk_data...\n",
            "[nltk_data]   Package averaged_perceptron_tagger is already up-to-\n",
            "[nltk_data]       date!\n",
            "[nltk_data] Downloading package averaged_perceptron_tagger_eng to\n",
            "[nltk_data]     /root/nltk_data...\n",
            "[nltk_data]   Unzipping taggers/averaged_perceptron_tagger_eng.zip.\n"
          ]
        },
        {
          "output_type": "stream",
          "name": "stdout",
          "text": [
            "\n",
            "--- Word Tokenization ---\n",
            "['Natural', 'Language', 'Processing', '(', 'NLP', ')', 'is', 'an', 'exciting', 'field', 'of', 'Artificial', 'Intelligence', '.', 'It', 'helps', 'computers', 'understand', 'human', 'language', '.']\n",
            "\n",
            "--- Sentence Tokenization ---\n",
            "['Natural Language Processing (NLP) is an exciting field of Artificial Intelligence.', 'It helps computers understand human language.']\n",
            "\n",
            "--- Filtered Words (Stopwords Removed) ---\n",
            "['Natural', 'Language', 'Processing', '(', 'NLP', ')', 'exciting', 'field', 'Artificial', 'Intelligence', '.', 'helps', 'computers', 'understand', 'human', 'language', '.']\n",
            "\n",
            "--- Stemmed Words ---\n",
            "['natur', 'languag', 'process', '(', 'nlp', ')', 'excit', 'field', 'artifici', 'intellig', '.', 'help', 'comput', 'understand', 'human', 'languag', '.']\n",
            "\n",
            "--- POS Tagging ---\n",
            "Natural: JJ\n",
            "Language: NNP\n",
            "Processing: NNP\n",
            "(: (\n",
            "NLP: NNP\n",
            "): )\n",
            "is: VBZ\n",
            "an: DT\n",
            "exciting: JJ\n",
            "field: NN\n",
            "of: IN\n",
            "Artificial: JJ\n",
            "Intelligence: NNP\n",
            ".: .\n",
            "It: PRP\n",
            "helps: VBZ\n",
            "computers: NNS\n",
            "understand: VBP\n",
            "human: JJ\n",
            "language: NN\n",
            ".: .\n"
          ]
        }
      ]
    }
  ]
}
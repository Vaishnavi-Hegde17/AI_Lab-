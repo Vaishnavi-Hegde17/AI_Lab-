{
  "nbformat": 4,
  "nbformat_minor": 0,
  "metadata": {
    "colab": {
      "provenance": []
    },
    "kernelspec": {
      "name": "python3",
      "display_name": "Python 3"
    },
    "language_info": {
      "name": "python"
    }
  },
  "cells": [
    {
      "cell_type": "code",
      "execution_count": null,
      "metadata": {
        "id": "qZBEF2Rsx5Ms",
        "outputId": "29149dee-4a82-493a-9665-ce7f885a7872",
        "colab": {
          "base_uri": "https://localhost:8080/"
        }
      },
      "outputs": [
        {
          "output_type": "stream",
          "name": "stdout",
          "text": [
            "Accuracy: 0.7662337662337663\n",
            "Confusion Matrix:\n",
            " [[79 20]\n",
            " [16 39]]\n",
            "Classification Report:\n",
            "               precision    recall  f1-score   support\n",
            "\n",
            "           0       0.83      0.80      0.81        99\n",
            "           1       0.66      0.71      0.68        55\n",
            "\n",
            "    accuracy                           0.77       154\n",
            "   macro avg       0.75      0.75      0.75       154\n",
            "weighted avg       0.77      0.77      0.77       154\n",
            "\n"
          ]
        }
      ],
      "source": [
        "# Import necessary libraries\n",
        "import numpy as np  # For numerical operations\n",
        "import pandas as pd  # For data manipulation and analysis\n",
        "from sklearn.model_selection import train_test_split  # For splitting data into training and testing sets\n",
        "from sklearn.metrics import accuracy_score, confusion_matrix, classification_report  # For model evaluation metrics\n",
        "\n",
        "# Load dataset\n",
        "# The dataset 'diabetes.csv' is assumed to have features (columns) representing medical parameters\n",
        "# and a target column indicating whether a patient has diabetes (1) or not (0).\n",
        "data = pd.read_csv('/content/diabetes.csv')\n",
        "X = data.iloc[:, :-1].values  # Features: all columns except the last one\n",
        "y = data.iloc[:, -1].values   # Target: the last column\n",
        "\n",
        "# Split dataset\n",
        "X_train, X_test, y_train, y_test = train_test_split(X, y, test_size=0.2, random_state=42)\n",
        "\n",
        "# Naive Bayes Classifier Implementation\n",
        "class NaiveBayes:\n",
        "    def fit(self, X, y):\n",
        "        self.classes = np.unique(y)\n",
        "        # Dictionaries to store class-specific statistics\n",
        "        self.mean = {}       # Mean for each feature per class\n",
        "        self.variance = {}   # Variance for each feature per class\n",
        "        self.priors = {}     # Prior probabilities for each class\n",
        "\n",
        "        for c in self.classes:\n",
        "            X_c = X[y == c]\n",
        "            self.mean[c] = np.mean(X_c, axis=0)\n",
        "            self.variance[c] = np.var(X_c, axis=0)\n",
        "            self.priors[c] = X_c.shape[0] / X.shape[0]\n",
        "\n",
        "    # Calculates the Gaussian probability density function for continuous data\n",
        "    def gaussian_pdf(self, x, mean, var):\n",
        "        eps = 1e-9  # To avoid division by zero\n",
        "        coef = 1 / np.sqrt(2 * np.pi * var + eps)\n",
        "        exponent = np.exp(-((x - mean) ** 2) / (2 * var + eps))\n",
        "        return coef * exponent\n",
        "\n",
        "    def predict(self, X):\n",
        "        predictions = []\n",
        "        for x in X:\n",
        "            posteriors = []\n",
        "            for c in self.classes:\n",
        "                prior = np.log(self.priors[c])\n",
        "                likelihood = np.sum(np.log(self.gaussian_pdf(x, self.mean[c], self.variance[c])))\n",
        "                posterior = prior + likelihood\n",
        "                posteriors.append(posterior)\n",
        "            predictions.append(self.classes[np.argmax(posteriors)])\n",
        "        return np.array(predictions)\n",
        "\n",
        "# Train and evaluate model\n",
        "model = NaiveBayes()\n",
        "model.fit(X_train, y_train)\n",
        "y_pred = model.predict(X_test)\n",
        "\n",
        "# Performance metrics\n",
        "print(\"Accuracy:\", accuracy_score(y_test, y_pred))\n",
        "print(\"Confusion Matrix:\\n\", confusion_matrix(y_test, y_pred))\n",
        "print(\"Classification Report:\\n\", classification_report(y_test, y_pred))"
      ]
    }
  ]
}